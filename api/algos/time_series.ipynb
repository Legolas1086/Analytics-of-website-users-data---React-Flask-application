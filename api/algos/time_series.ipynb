{
 "metadata": {
  "language_info": {
   "codemirror_mode": {
    "name": "ipython",
    "version": 3
   },
   "file_extension": ".py",
   "mimetype": "text/x-python",
   "name": "python",
   "nbconvert_exporter": "python",
   "pygments_lexer": "ipython3",
   "version": "3.8.5"
  },
  "orig_nbformat": 4,
  "kernelspec": {
   "name": "python3",
   "display_name": "Python 3.8.5 64-bit"
  },
  "interpreter": {
   "hash": "5b3ded1ccb95c1d9bd405e7b823d9e85424cde40fbb5985eb47e999ef50e15b4"
  }
 },
 "nbformat": 4,
 "nbformat_minor": 2,
 "cells": [
  {
   "cell_type": "code",
   "execution_count": 1,
   "metadata": {},
   "outputs": [],
   "source": [
    "import numpy as np \n",
    "import pandas as pd \n",
    "import matplotlib.pylab as plt\n",
    "from pandas.core.indexes import period"
   ]
  },
  {
   "cell_type": "code",
   "execution_count": 4,
   "metadata": {},
   "outputs": [
    {
     "output_type": "stream",
     "name": "stdout",
     "text": [
      "          ds   y\n0 2020-11-23   2\n1 2020-11-24   4\n2 2020-11-25  21\n3 2020-11-26   0\n4 2020-11-27  11\n"
     ]
    }
   ],
   "source": [
    "data = pd.read_csv('../processed_data/new_users.csv',comment='#')\n",
    "#print(data.head())\n",
    "train_data=pd.DataFrame()\n",
    "train_data['ds'] = pd.to_datetime(data['Day'])\n",
    "train_data['y'] = data['New users']\n",
    "print(train_data.head())"
   ]
  },
  {
   "cell_type": "code",
   "execution_count": 6,
   "metadata": {},
   "outputs": [
    {
     "output_type": "stream",
     "name": "stderr",
     "text": [
      "INFO:fbprophet:Disabling yearly seasonality. Run prophet with yearly_seasonality=True to override this.\n",
      "INFO:fbprophet:Disabling daily seasonality. Run prophet with daily_seasonality=True to override this.\n"
     ]
    },
    {
     "output_type": "execute_result",
     "data": {
      "text/plain": [
       "<fbprophet.forecaster.Prophet at 0x7f0392e1cfd0>"
      ]
     },
     "metadata": {},
     "execution_count": 6
    }
   ],
   "source": [
    "from fbprophet import Prophet\n",
    "prophecy = Prophet()\n",
    "prophecy.fit(train_data)\n"
   ]
  },
  {
   "cell_type": "code",
   "execution_count": 7,
   "metadata": {},
   "outputs": [
    {
     "output_type": "stream",
     "name": "stdout",
     "text": [
      "             ds\n1177 2024-02-13\n1178 2024-02-14\n1179 2024-02-15\n1180 2024-02-16\n1181 2024-02-17\n"
     ]
    }
   ],
   "source": [
    "future_dates = prophecy.make_future_dataframe(periods=1000)\n",
    "print(future_dates.tail())"
   ]
  },
  {
   "cell_type": "code",
   "execution_count": null,
   "metadata": {},
   "outputs": [],
   "source": []
  }
 ]
}